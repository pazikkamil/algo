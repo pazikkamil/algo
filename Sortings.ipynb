{
 "cells": [
  {
   "cell_type": "markdown",
   "metadata": {},
   "source": [
    "# Sorting algorithms\n",
    "In notebook you will see couple implementations of sorting algorithms\n",
    "Below are implementations for different sorting alorithms. Later in document there are performances testings and described applications\n",
    "\n",
    "---"
   ]
  },
  {
   "cell_type": "markdown",
   "metadata": {},
   "source": [
    "# Prerequisites \n",
    "You should launch Makefile script before.\n",
    "If you work on windows just:\n",
    "* create venv\n",
    "* pip install -r requirements\n",
    "\n",
    "## Used libraries\n",
    "* Matplotlib (pip install matplotlib)\n",
    "* Memory profiler (pip install memory_profiler)\n",
    "\n",
    "## Launched extensions\n",
    "* memory_profiler"
   ]
  },
  {
   "cell_type": "code",
   "execution_count": null,
   "metadata": {},
   "outputs": [],
   "source": [
    "%load_ext memory_profiler\n",
    "%load_ext line_profiler"
   ]
  },
  {
   "cell_type": "markdown",
   "metadata": {},
   "source": [
    "## Algorithms implementations:\n",
    "* [Selection sort](#Selection-sort)\n",
    "* [Insert sort](#Insert-sort)\n",
    "* [Heap sort](#Heap-sort)\n",
    "* [Cocktail sort](#Coctail-sort)"
   ]
  },
  {
   "cell_type": "markdown",
   "metadata": {},
   "source": [
    "## Funtion to generate data"
   ]
  },
  {
   "cell_type": "code",
   "execution_count": 1,
   "metadata": {},
   "outputs": [],
   "source": [
    "import random"
   ]
  },
  {
   "cell_type": "code",
   "execution_count": 2,
   "metadata": {},
   "outputs": [],
   "source": [
    "def gen_data(n, distribution='increment', step=1):\n",
    "    data = []\n",
    "    if distribution == 'random':\n",
    "        data = [random.randint(1, n*step) for value in range(0, n*step, step)]\n",
    "    elif distribution == 'inc':\n",
    "        data = [value for value in range(1, n*step+1, step)]\n",
    "    elif distribution == 'dec':\n",
    "        data = [value for value in range(n*step, 0, -step)]\n",
    "    elif distribution == 'a':\n",
    "        data = [value for value in range(1, (n*step + 2 )//2, step)]\n",
    "        data.extend([value for value in range(((n-2)*step)//2,-1, -step)])\n",
    "    elif distribution == 'v':\n",
    "        data = [value for value in range(((n-2)*step)//2,-1, -step)]\n",
    "        data.extend([value for value in range(1, (n*step + 2 )//2, step)])\n",
    "    elif distribution == 'const':\n",
    "        val = random.randint(1, n*step)\n",
    "        data = [val for i in range(n)]\n",
    "#     print(len(data))\n",
    "    return data"
   ]
  },
  {
   "cell_type": "code",
   "execution_count": 3,
   "metadata": {},
   "outputs": [],
   "source": [
    "from __future__ import print_function\n",
    "from ipywidgets import interact, interactive, fixed, interact_manual\n",
    "import ipywidgets as widgets\n"
   ]
  },
  {
   "cell_type": "code",
   "execution_count": 4,
   "metadata": {
    "scrolled": true
   },
   "outputs": [
    {
     "data": {
      "application/vnd.jupyter.widget-view+json": {
       "model_id": "fe498371bc0b41d4bfae488414619158",
       "version_major": 2,
       "version_minor": 0
      },
      "text/plain": [
       "interactive(children=(IntSlider(value=50000, description='n', max=200000, min=50000, step=1000), Dropdown(desc…"
      ]
     },
     "metadata": {},
     "output_type": "display_data"
    }
   ],
   "source": [
    "from ipywidgets import IntSlider\n",
    "interact_manual(\n",
    "    gen_data,\n",
    "    n=IntSlider(min=50000, max=200000, step=1000),\n",
    "    step=IntSlider(min=1, max=200),\n",
    "    distribution={\n",
    "        'incremental': 'inc',\n",
    "        'decremental': 'dec',\n",
    "        'A-shape': 'a',\n",
    "        'V-shape': 'v',\n",
    "        'random': 'random',\n",
    "        'constant': 'const'\n",
    "    },\n",
    "    \n",
    ");"
   ]
  },
  {
   "cell_type": "markdown",
   "metadata": {},
   "source": [
    "## Decorator to measure time"
   ]
  },
  {
   "cell_type": "code",
   "execution_count": 5,
   "metadata": {},
   "outputs": [],
   "source": [
    "import time\n",
    "def timeit(method):\n",
    "    def timed(*args, **kw):\n",
    "        ts = time.time()\n",
    "        result = method(*args, **kw)\n",
    "        te = time.time()\n",
    "#         if 'log_time' in kw:\n",
    "#             name = kw.get('log_name', method.__name__.upper())\n",
    "#             kw['log_time'][name] = int((te - ts) * 1000)\n",
    "#         else:\n",
    "        execution_time = float((te - ts) * 1000)\n",
    "#             print('%r  %2.2f ms' % (method.__name__, execution_time))\n",
    "        return result, execution_time\n",
    "    return timed"
   ]
  },
  {
   "cell_type": "markdown",
   "metadata": {},
   "source": [
    "---\n",
    "## Selection sort"
   ]
  },
  {
   "cell_type": "code",
   "execution_count": 6,
   "metadata": {},
   "outputs": [],
   "source": [
    "list_to_sort = [4, 5, 2, 3, 8, 1, 6, 7]"
   ]
  },
  {
   "cell_type": "code",
   "execution_count": 7,
   "metadata": {},
   "outputs": [],
   "source": [
    "@timeit\n",
    "def selection_sort(arr):\n",
    "    for i in range(0, len(arr)):\n",
    "        min_element_index = i\n",
    "        for j in range(i+1, len(arr)):\n",
    "            if arr[min_element_index] > arr[j]:\n",
    "                min_element_index = j\n",
    "        if min_element_index != i:\n",
    "            # swap\n",
    "            arr[i], arr[min_element_index] = arr[min_element_index], arr[i]\n",
    "    return arr"
   ]
  },
  {
   "cell_type": "code",
   "execution_count": 8,
   "metadata": {},
   "outputs": [
    {
     "data": {
      "text/plain": [
       "([1, 2, 3, 4, 5, 6, 7, 8], 0.012874603271484375)"
      ]
     },
     "execution_count": 8,
     "metadata": {},
     "output_type": "execute_result"
    }
   ],
   "source": [
    "selection_sort([4, 5, 2, 3, 8, 1, 6, 7])"
   ]
  },
  {
   "cell_type": "code",
   "execution_count": 9,
   "metadata": {},
   "outputs": [],
   "source": [
    "assert selection_sort([4, 5, 2, 3, 8, 1, 6, 7])[0] == [1, 2, 3, 4, 5, 6, 7, 8]"
   ]
  },
  {
   "cell_type": "markdown",
   "metadata": {},
   "source": [
    "## Insert sort"
   ]
  },
  {
   "cell_type": "code",
   "execution_count": 10,
   "metadata": {},
   "outputs": [],
   "source": [
    "@timeit\n",
    "def insert_sort(A):\n",
    "    for i in range(1,len(A)):\n",
    "        klucz = A[i]\n",
    "        j = i - 1\n",
    "        while j>=0 and klucz<A[j]:\n",
    "            A[j + 1] = A[j]\n",
    "            j = j - 1\n",
    "        A[j + 1] = klucz\n",
    "    return A"
   ]
  },
  {
   "cell_type": "code",
   "execution_count": 11,
   "metadata": {},
   "outputs": [
    {
     "data": {
      "text/plain": [
       "([1, 2, 3, 4, 5, 6, 7, 8], 0.014066696166992188)"
      ]
     },
     "execution_count": 11,
     "metadata": {},
     "output_type": "execute_result"
    }
   ],
   "source": [
    "insert_sort(list_to_sort)"
   ]
  },
  {
   "cell_type": "code",
   "execution_count": 12,
   "metadata": {},
   "outputs": [],
   "source": [
    "assert insert_sort(list_to_sort)[0] == [1, 2, 3, 4, 5, 6, 7, 8]"
   ]
  },
  {
   "cell_type": "code",
   "execution_count": 13,
   "metadata": {},
   "outputs": [],
   "source": [
    "def insertionSort1(n, arr):\n",
    "    tmp_arr = list(arr)\n",
    "    # theres no need to use swap\n",
    "    swap = 0\n",
    "    for i in range(1, n):\n",
    "        j = i - 1\n",
    "        verifing_element = tmp_arr[i]\n",
    "        while j >= 0 and verifing_element < tmp_arr[j]:\n",
    "            swap = 1\n",
    "            tmp_arr[j + 1] = tmp_arr[j]\n",
    "            # swap  \n",
    "            j -= 1\n",
    "            \n",
    "        if swap:\n",
    "            tmp_arr[j+1] = verifing_element\n",
    "        \n",
    "    return tmp_arr"
   ]
  },
  {
   "cell_type": "code",
   "execution_count": 14,
   "metadata": {},
   "outputs": [],
   "source": [
    "assert insertionSort1(len(list_to_sort), list_to_sort) == [1, 2, 3, 4, 5, 6, 7, 8]"
   ]
  },
  {
   "cell_type": "markdown",
   "metadata": {},
   "source": [
    "## Heap sort"
   ]
  },
  {
   "cell_type": "code",
   "execution_count": null,
   "metadata": {},
   "outputs": [],
   "source": []
  },
  {
   "cell_type": "markdown",
   "metadata": {},
   "source": [
    "# Testing"
   ]
  },
  {
   "cell_type": "code",
   "execution_count": 15,
   "metadata": {},
   "outputs": [],
   "source": [
    "data_distributions = {\n",
    "        'incremental': 'inc',\n",
    "        'decremental': 'dec',\n",
    "#         'A-shape': 'a',\n",
    "#         'V-shape': 'v',\n",
    "#         'random': 'random',\n",
    "#         'constant': 'const'\n",
    "    }\n",
    "\n",
    "test_points = {\n",
    "    '50k': 5000,\n",
    "    '60k': 6000\n",
    "}\n",
    "\n",
    "algoritms = {\n",
    "    'selection': selection_sort,\n",
    "    'insertion': insert_sort\n",
    "}"
   ]
  },
  {
   "cell_type": "code",
   "execution_count": null,
   "metadata": {},
   "outputs": [],
   "source": [
    "%memit gen_data(200000, 'random')"
   ]
  },
  {
   "cell_type": "code",
   "execution_count": null,
   "metadata": {},
   "outputs": [],
   "source": [
    "%mprun gen_data(200000, 'random')"
   ]
  },
  {
   "cell_type": "code",
   "execution_count": null,
   "metadata": {},
   "outputs": [],
   "source": [
    "%load_ext line_profiler"
   ]
  },
  {
   "cell_type": "code",
   "execution_count": null,
   "metadata": {},
   "outputs": [],
   "source": [
    "f = lambda x: len(gen_data(x, 'random'))"
   ]
  },
  {
   "cell_type": "code",
   "execution_count": null,
   "metadata": {},
   "outputs": [],
   "source": [
    "f(100)"
   ]
  },
  {
   "cell_type": "code",
   "execution_count": null,
   "metadata": {},
   "outputs": [],
   "source": [
    "%lprun -f f(300)"
   ]
  },
  {
   "cell_type": "code",
   "execution_count": 19,
   "metadata": {},
   "outputs": [
    {
     "name": "stdout",
     "output_type": "stream",
     "text": [
      "{'decremental': {'50k': {'selection': 1680.3779602050781, 'insertion': 1.6109943389892578}, '60k': {'selection': 3285.2349281311035, 'insertion': 2.101898193359375}}, 'incremental': {'50k': {'selection': 1438.8880729675293, 'insertion': 1.3189315795898438}, '60k': {'selection': 2133.4738731384277, 'insertion': 2.104043960571289}}}\n"
     ]
    }
   ],
   "source": [
    "time_results = {}\n",
    "\n",
    "for dist_name, dist_short in data_distributions.items():\n",
    "    time_results[dist_name] = {}\n",
    "    result_for_points = {}\n",
    "    result_of_algo = {}\n",
    "    \n",
    "    for point_name, points_no in test_points.items():\n",
    "        result_for_points[point_name] = {}\n",
    "        \n",
    "        # generate data for distribution/ points\n",
    "        data_to_sort = gen_data(points_no, dist_short)\n",
    "        \n",
    "        for alg_name, alg_fn in algoritms.items():\n",
    "            execution_time = alg_fn(data_to_sort)[1]\n",
    "            result_of_algo[alg_name] = execution_time\n",
    "            \n",
    "        result_for_points[point_name].update(result_of_algo)\n",
    "    time_results[dist_name].update(result_for_points)\n",
    "    \n",
    "print(time_results)\n",
    "        \n",
    "            \n"
   ]
  },
  {
   "cell_type": "code",
   "execution_count": null,
   "metadata": {},
   "outputs": [],
   "source": [
    "import matplotlib.pyplot as plt\n",
    "plt.plot([1,2,3,4])\n",
    "plt.ylabel('t(s)')\n",
    "plt.xlabel('n')\n",
    "plt.show()"
   ]
  },
  {
   "cell_type": "code",
   "execution_count": null,
   "metadata": {},
   "outputs": [],
   "source": [
    "%timeit insert_sort(z)"
   ]
  },
  {
   "cell_type": "code",
   "execution_count": null,
   "metadata": {},
   "outputs": [],
   "source": [
    "%timeit selection_sort(z)"
   ]
  },
  {
   "cell_type": "code",
   "execution_count": null,
   "metadata": {},
   "outputs": [],
   "source": [
    "z = [ random.randint(0, 100) for i in range(100)]"
   ]
  },
  {
   "cell_type": "code",
   "execution_count": null,
   "metadata": {},
   "outputs": [],
   "source": [
    "y = [ random.randint(-1000, 1000) for i in range(100)]"
   ]
  },
  {
   "cell_type": "code",
   "execution_count": null,
   "metadata": {},
   "outputs": [],
   "source": [
    "from matplotlib import pyplot"
   ]
  },
  {
   "cell_type": "code",
   "execution_count": null,
   "metadata": {},
   "outputs": [],
   "source": [
    "%timeit insert_sort(z)"
   ]
  },
  {
   "cell_type": "code",
   "execution_count": null,
   "metadata": {},
   "outputs": [],
   "source": [
    "%timeit selection_sort(z)"
   ]
  },
  {
   "cell_type": "code",
   "execution_count": null,
   "metadata": {},
   "outputs": [],
   "source": [
    "z = gen_data(50000, 'random')"
   ]
  },
  {
   "cell_type": "code",
   "execution_count": null,
   "metadata": {},
   "outputs": [],
   "source": [
    "selection_sort(z)"
   ]
  },
  {
   "cell_type": "code",
   "execution_count": null,
   "metadata": {},
   "outputs": [],
   "source": [
    "%timeit selection_sort(z)"
   ]
  }
 ],
 "metadata": {
  "kernelspec": {
   "display_name": "Python 3",
   "language": "python",
   "name": "python3"
  },
  "language_info": {
   "codemirror_mode": {
    "name": "ipython",
    "version": 3
   },
   "file_extension": ".py",
   "mimetype": "text/x-python",
   "name": "python",
   "nbconvert_exporter": "python",
   "pygments_lexer": "ipython3",
   "version": "3.4.6"
  }
 },
 "nbformat": 4,
 "nbformat_minor": 2
}
